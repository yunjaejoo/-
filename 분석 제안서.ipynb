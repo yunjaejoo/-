{
 "cells": [
  {
   "cell_type": "markdown",
   "id": "65c97d14-efd7-453d-a0c4-b1d51e6919d5",
   "metadata": {},
   "source": [
    "파이썬 데이터 분석 7조 - 공모전 단순 참가(찍먹)  \n",
    "202104353 주윤재\n",
    "202204291 황승현"
   ]
  },
  {
   "cell_type": "markdown",
   "id": "eef646bf-2bf6-4c9e-baf3-8d57bb2b9bee",
   "metadata": {},
   "source": [
    "팀에 대한 정보:\n",
    "저희 조는 공모전 단순 참가 (찍먹) 조입니다. 두 학생 모두 공모전이나 대회에 참가한 적이 없으며, 이 수업을 통해 데이터를 다루는 방법과 공모전이나 대회가 어떻게 진행되는지에 대해 알아보고 싶습니다."
   ]
  },
  {
   "cell_type": "markdown",
   "id": "3f348707-1e30-4805-a439-0d5933058eaf",
   "metadata": {},
   "source": [
    "1. 개요\n",
    "- 분석의 목적: 이동수단의 발달에 따라 다양한 유형의 교통사고들이 계속 발생하고 있어서, 해당 사고의 원인을 규명하고 사고율을 낮추기 위해 시공간 정보로부터 사고위험도를 예측하는 AI 알고리즘 발굴.\n",
    "- 문제 설명: 사고 발생 시간, 공간 등의 정보를 활용하여 사고위험도(ECLO)를 예측하는 AI 알고리즘 개발."
   ]
  },
  {
   "cell_type": "markdown",
   "id": "c5042a10-281f-438c-b7a6-00858079fbf8",
   "metadata": {},
   "source": [
    "2. 데이터 수집\n",
    "- 데이터 출처: 대구 교통사고 피해 예측 AI 경진대회에서 제공되는 데이터 파일.\n",
    "- 수집 방법: 데이콘에서 제공되는 데이터 파일을 그대로 수집하여 압축파일을 풀었습니다.\n",
    "\n",
    "- 수집된 데이터의 구조 및 특성 설명\n",
    "- train.csv 파일 <br> '사망자수', '중상자수', '경상자수', '부상자수' 그리고 '인명피해 심각도(ECLO)'는 int64이고 이외 나머지는 모두 object입니다. 데이터는 크게 '대구에서 발생한 교통사고의 고유 ID', '사고 발생 시간', '해당 사고가 발생한 당시의 공간 정보와 사고와 관련된 정보', '인명피해 심각도'로 볼 수 있습니다.\n",
    "- test.csv 파일 <br> 모든 데이터가 object입니다. 데이터는 크게 '대구에서 발생한 교통사고의 고유 ID', '2022년의 교통사고 데이터', '해당 시점의 사고에 대한 데이터'로 구성되었습니다.\n",
    "- sample_submission.csv 파일 <br> 제출 양식에 대한 파일로, '추론 샘플의 고유 ID'와 'ECLO'로 구성되어있습니다.\n",
    "- countrywide_accident.csv 파일 <br> 대구를 제외한 전국의 교통사고 데이터입니다. 2019년부터 2021년까지의 교통사고 데이터로 구성되어 있습니다. 이 데이터 역시 '사망자수', '중상자수', '경상자수', '부상자수' 그리고 '인명피해 심각도(ECLO)'는 int64이고 이외 나머지는 모두 object입니다.\n",
    "- 대구 보안등 정보.csv 파일 <br> 대구에 존재하는 보안등에 관련된 정보입니다.\n",
    "- 대구 어린이 보호 구역 정보.csv 파일 <br> 대구에 존재하는 어린이 보호 구역에 대한 정보입니다.\n",
    "- 대구 주차장 정보.csv 파일 <br> 대구에 존재하는 주차장에 대한 정보입니다.\n",
    "- 대구 CCTV 정보.csv 파일 <br> 대구에 존재하는 CCTV에 대한 정보입니다."
   ]
  },
  {
   "cell_type": "markdown",
   "id": "d9ca06b7-4842-47c3-9a5d-d203a0334cf6",
   "metadata": {},
   "source": [
    "공모전 찍먹이지만 이왕 하는거 분석을 자세히 해보고 싶은 마음이 생겨서 수업 내용을 토대로 공부중입니다. 데이터 전처리와 데이터 탐색 및 시각화 부분은 아직 공부한 내용이 미흡하여 진행하지 못했습니다."
   ]
  },
  {
   "cell_type": "code",
   "execution_count": null,
   "id": "7931db71-4d8d-4e71-b969-eaff09357305",
   "metadata": {},
   "outputs": [],
   "source": []
  }
 ],
 "metadata": {
  "kernelspec": {
   "display_name": "Python 3 (ipykernel)",
   "language": "python",
   "name": "python3"
  },
  "language_info": {
   "codemirror_mode": {
    "name": "ipython",
    "version": 3
   },
   "file_extension": ".py",
   "mimetype": "text/x-python",
   "name": "python",
   "nbconvert_exporter": "python",
   "pygments_lexer": "ipython3",
   "version": "3.12.2"
  }
 },
 "nbformat": 4,
 "nbformat_minor": 5
}
